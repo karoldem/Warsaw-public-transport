{
  "nbformat": 4,
  "nbformat_minor": 0,
  "metadata": {
    "colab": {
      "provenance": [],
      "authorship_tag": "ABX9TyON0FQKuHFsB19RKT7oYC6W",
      "include_colab_link": true
    },
    "kernelspec": {
      "name": "python3",
      "display_name": "Python 3"
    },
    "language_info": {
      "name": "python"
    }
  },
  "cells": [
    {
      "cell_type": "markdown",
      "metadata": {
        "id": "view-in-github",
        "colab_type": "text"
      },
      "source": [
        "<a href=\"https://colab.research.google.com/github/karoldem/Warsaw-public-transport/blob/main/create%20csv.ipynb\" target=\"_parent\"><img src=\"https://colab.research.google.com/assets/colab-badge.svg\" alt=\"Open In Colab\"/></a>"
      ]
    },
    {
      "cell_type": "code",
      "source": [
        "!pip install partridge\n",
        "import partridge as ptg"
      ],
      "metadata": {
        "colab": {
          "base_uri": "https://localhost:8080/"
        },
        "collapsed": true,
        "id": "iwMiqKJGK8fS",
        "outputId": "d3a5d5a3-1347-4e31-b236-9678205450e2"
      },
      "execution_count": 1,
      "outputs": [
        {
          "output_type": "stream",
          "name": "stdout",
          "text": [
            "Collecting partridge\n",
            "  Downloading partridge-1.1.2-py2.py3-none-any.whl.metadata (13 kB)\n",
            "Requirement already satisfied: charset-normalizer in /usr/local/lib/python3.10/dist-packages (from partridge) (3.4.0)\n",
            "Requirement already satisfied: networkx>=2.0 in /usr/local/lib/python3.10/dist-packages (from partridge) (3.4.2)\n",
            "Requirement already satisfied: pandas in /usr/local/lib/python3.10/dist-packages (from partridge) (2.2.2)\n",
            "Collecting isoweek (from partridge)\n",
            "  Downloading isoweek-1.3.3-py2.py3-none-any.whl.metadata (4.4 kB)\n",
            "Requirement already satisfied: numpy>=1.22.4 in /usr/local/lib/python3.10/dist-packages (from pandas->partridge) (1.26.4)\n",
            "Requirement already satisfied: python-dateutil>=2.8.2 in /usr/local/lib/python3.10/dist-packages (from pandas->partridge) (2.8.2)\n",
            "Requirement already satisfied: pytz>=2020.1 in /usr/local/lib/python3.10/dist-packages (from pandas->partridge) (2024.2)\n",
            "Requirement already satisfied: tzdata>=2022.7 in /usr/local/lib/python3.10/dist-packages (from pandas->partridge) (2024.2)\n",
            "Requirement already satisfied: six>=1.5 in /usr/local/lib/python3.10/dist-packages (from python-dateutil>=2.8.2->pandas->partridge) (1.16.0)\n",
            "Downloading partridge-1.1.2-py2.py3-none-any.whl (16 kB)\n",
            "Downloading isoweek-1.3.3-py2.py3-none-any.whl (7.1 kB)\n",
            "Installing collected packages: isoweek, partridge\n",
            "Successfully installed isoweek-1.3.3 partridge-1.1.2\n"
          ]
        }
      ]
    },
    {
      "cell_type": "code",
      "source": [
        "feed = ptg.load_feed('/content/gtfs.zip')"
      ],
      "metadata": {
        "id": "i5N49TgDimjD"
      },
      "execution_count": 2,
      "outputs": []
    },
    {
      "cell_type": "code",
      "source": [
        "stops = feed.stops\n",
        "stops['stop_name'] = stops['stop_name'].str.upper()"
      ],
      "metadata": {
        "id": "ChCcsmvzt7pc"
      },
      "execution_count": 3,
      "outputs": []
    },
    {
      "cell_type": "code",
      "source": [
        "routes = feed.routes\n",
        "routes['route_desc'] = routes['route_desc'].str.upper()\n",
        "routes['drop'] = False"
      ],
      "metadata": {
        "id": "Se19IX3n8XOv"
      },
      "execution_count": 4,
      "outputs": []
    },
    {
      "cell_type": "code",
      "source": [
        "routes = feed.routes\n",
        "routes['route_desc'] = routes['route_desc'].str.upper()\n",
        "routes['drop'] = False\n",
        "\n",
        "for i, row in routes.iterrows():\n",
        "    field = row['route_short_name']\n",
        "    ekspresowa = True if field in ['E-1', 'E-2'] else False\n",
        "    number = True if field.isdigit() else False\n",
        "\n",
        "    if number:\n",
        "        if not 400 <= int(field) < 600:\n",
        "            routes.loc[i, 'drop'] = True\n",
        "\n",
        "    elif not ekspresowa:\n",
        "        routes.loc[i, 'drop'] = True\n",
        "\n",
        "routes = routes[~routes['drop']]\n",
        "routes = routes[['route_short_name', 'route_desc']]\n",
        "routes = routes.drop_duplicates()"
      ],
      "metadata": {
        "id": "MTTxbQmagUN0"
      },
      "execution_count": 6,
      "outputs": []
    }
  ]
}